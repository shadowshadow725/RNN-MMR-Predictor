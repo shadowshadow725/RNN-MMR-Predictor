{
 "cells": [
  {
   "cell_type": "code",
   "execution_count": 1,
   "id": "fdd78835",
   "metadata": {},
   "outputs": [],
   "source": [
    "import csv\n",
    "import torch\n",
    "import torch.nn as nn\n",
    "import torch.nn.functional as F\n",
    "import torch.optim as optim\n",
    "import numpy as np\n",
    "import matplotlib.pyplot as plt\n",
    "import os\n",
    "import json\n",
    "import math\n",
    "from typing import Dict, List\n",
    "from torch.utils.data import Dataset, DataLoader\n",
    "import random"
   ]
  },
  {
   "cell_type": "code",
   "execution_count": 12,
   "id": "cb9af0a8",
   "metadata": {},
   "outputs": [],
   "source": [
    "def calculate_avg_mmr(elo_ratings):\n",
    "    \"\"\"\n",
    "    Calculate the average value of 10 players' ELO ratings.\n",
    "    Return -1 if the avg is out of bounds (0 - 3386)\n",
    "    \"\"\"\n",
    "    ret = math.floor(sum(elo_ratings)/len(elo_ratings))\n",
    "    if ret < 0 or ret > 3386:\n",
    "        return -1\n",
    "    \n",
    "    return ret\n",
    "\n",
    "\n",
    "def classify_elo(elo):\n",
    "    \"\"\"\n",
    "    Return the index representing a ranking system in League of Legends.\n",
    "    \n",
    "    Iron IV, III, II, I = 0, 1, 2, 3\n",
    "    Bronze IV, III, II, I = 4, 5, 6, 7\n",
    "    Silver IV, III, II, I = 8, 9, 10, 11\n",
    "    Gold IV, III, II, I = 12, 13, 14, 15\n",
    "    Platinum IV, III, II, I = 16, 17, 18, 19\n",
    "    Diamond IV, III, II, I = 20, 21, 22, 23\n",
    "    Master = 24\n",
    "    Grandmaster = 25\n",
    "    Challengers = 26\n",
    "    \"\"\"\n",
    "    if elo == -1:\n",
    "        return -1 \n",
    "    \n",
    "    mmr_ranges = [\n",
    "        [0, 112], [112, 227], [227, 479], [479, 579], # Iron\n",
    "        [579, 757], [757, 963], [963, 1094], [1094, 1207], # Bronze\n",
    "        [1207, 1308], [1308, 1418], [1418, 1528], [1528, 1619], # Silver\n",
    "        [1619, 1702], [1702, 1793], [1793, 1896], [1896, 1980], # Gold\n",
    "        [1980, 2045], [2045, 2146], [2146, 2255], [2255, 2329], # Platinum\n",
    "        [2329, 2396], [2396, 2487], [2487, 2602], [2602, 2729], # Diamond\n",
    "        [2729, 2893], # Master\n",
    "        [2893, 3126], # Grandmaster \n",
    "        [3126, 3386] # Challenger\n",
    "    ]\n",
    "    for i in range(len(mmr_ranges)):\n",
    "        if mmr_ranges[i][0] <= elo < mmr_ranges[i][1]:\n",
    "            return i//4\n",
    "    \n",
    "    return -1 \n",
    "\n",
    "\n",
    "def getDistribution():\n",
    "    \"\"\"\n",
    "    # TODO: Add documentation\n",
    "    \"\"\"\n",
    "    mmr = []\n",
    "    elo = []\n",
    "    failed = 0\n",
    "    succeed = 0\n",
    "    path = os.getcwd() + '\\\\\\\\DataCollection\\\\\\\\data\\\\\\\\data\\\\\\\\'\n",
    "    matches = os.listdir(path)\n",
    "    for file_name in matches:\n",
    "        try:\n",
    "            with open(path + file_name) as f:\n",
    "                raw_data = json.load(f)\n",
    "                if raw_data['timeline'] and raw_data['elo'] and len(raw_data['timeline']) >= 15:\n",
    "                    avg_mmr = calculate_avg_mmr(raw_data['elo'])\n",
    "                    target_elos = classify_elo(avg_mmr)\n",
    "                    \n",
    "                    mmr.append(avg_mmr)\n",
    "                    elo.append(target_elos)\n",
    "                    succeed += 1\n",
    "        except:\n",
    "            failed += 1\n",
    "\n",
    "    print(\"Succeed: \",succeed)\n",
    "    print(\"Failed: \", failed)\n",
    "    return mmr, elo"
   ]
  },
  {
   "cell_type": "code",
   "execution_count": 13,
   "id": "5a4b2a84",
   "metadata": {},
   "outputs": [
    {
     "name": "stdout",
     "output_type": "stream",
     "text": [
      "Succeed:  8469\n",
      "Failed:  1721\n"
     ]
    }
   ],
   "source": [
    "mmr, elo = getDistribution()"
   ]
  },
  {
   "cell_type": "code",
   "execution_count": 14,
   "id": "dfc8fba0",
   "metadata": {},
   "outputs": [
    {
     "data": {
      "image/png": "[encoded data removed]",
      "text/plain": [
       "<Figure size 432x288 with 1 Axes>"
      ]
     },
     "metadata": {
      "needs_background": "light"
     },
     "output_type": "display_data"
    }
   ],
   "source": [
    "plt.title(\"Average MMR Histogram\")\n",
    "plt.hist(mmr)\n",
    "plt.xlabel(\"Average MMR\")\n",
    "plt.ylabel(\"Matches\")\n",
    "plt.show()"
   ]
  },
  {
   "cell_type": "code",
   "execution_count": 15,
   "id": "cb727b46",
   "metadata": {},
   "outputs": [
    {
     "data": {
      "image/png": "[encoded data removed]",
      "text/plain": [
       "<Figure size 432x288 with 1 Axes>"
      ]
     },
     "metadata": {
      "needs_background": "light"
     },
     "output_type": "display_data"
    }
   ],
   "source": [
    "plt.title(\"ELO Histogram\")\n",
    "plt.hist(elo)\n",
    "plt.xlabel(\"ELO Class\")\n",
    "plt.ylabel(\"Matches\")\n",
    "plt.show()"
   ]
  },
  {
   "cell_type": "code",
   "execution_count": null,
   "id": "cc31820d",
   "metadata": {},
   "outputs": [],
   "source": []
  }
 ],
 "metadata": {
  "kernelspec": {
   "display_name": "Python 3 (ipykernel)",
   "language": "python",
   "name": "python3"
  },
  "language_info": {
   "codemirror_mode": {
    "name": "ipython",
    "version": 3
   },
   "file_extension": ".py",
   "mimetype": "text/x-python",
   "name": "python",
   "nbconvert_exporter": "python",
   "pygments_lexer": "ipython3",
   "version": "3.9.7"
  }
 },
 "nbformat": 4,
 "nbformat_minor": 5
}
